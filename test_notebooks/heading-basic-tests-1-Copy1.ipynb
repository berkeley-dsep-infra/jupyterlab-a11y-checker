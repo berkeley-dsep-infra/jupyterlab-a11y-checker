{
 "cells": [
  {
   "cell_type": "markdown",
   "id": "bfd87226-5b64-47a6-848f-aa90ade08c92",
   "metadata": {},
   "source": [
    "Basic Tests 1 (Headings)\n",
    "\n",
    "## 1. heading-missing-h1"
   ]
  },
  {
   "cell_type": "markdown",
   "id": "3144fb17-dca5-45bc-a627-e15654bfaf8f",
   "metadata": {},
   "source": [
    "## 3. heading-duplicate-h2\n",
    "\n",
    "## 3. heading-duplicate-h2"
   ]
  },
  {
   "cell_type": "markdown",
   "id": "f351b4a9-05b0-4c95-92a6-5cd750d8b8c0",
   "metadata": {},
   "source": [
    "## 5. heading-wrong-order\n",
    "#### This cannot be h4."
   ]
  },
  {
   "cell_type": "markdown",
   "id": "0522eef7-9293-4ca9-a1c2-acb753e22036",
   "metadata": {},
   "source": [
    "## 6. heading-empty\n",
    "\n",
    "### "
   ]
  }
 ],
 "metadata": {
  "kernelspec": {
   "display_name": "Python 3 (ipykernel)",
   "language": "python",
   "name": "python3"
  },
  "language_info": {
   "codemirror_mode": {
    "name": "ipython",
    "version": 3
   },
   "file_extension": ".py",
   "mimetype": "text/x-python",
   "name": "python",
   "nbconvert_exporter": "python",
   "pygments_lexer": "ipython3",
   "version": "3.13.2"
  }
 },
 "nbformat": 4,
 "nbformat_minor": 5
}
