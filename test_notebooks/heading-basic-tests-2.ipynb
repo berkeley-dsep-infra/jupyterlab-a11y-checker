{
 "cells": [
  {
   "cell_type": "markdown",
   "id": "bfd87226-5b64-47a6-848f-aa90ade08c92",
   "metadata": {},
   "source": [
    "# Basic Tests 2 (Headings)"
   ]
  },
  {
   "cell_type": "markdown",
   "id": "34e3361e-59c9-4f11-9ac8-74b997118f32",
   "metadata": {},
   "source": [
    "# Basic Tests 2 (Headings)\n",
    "## 2. heading-multiple-h1"
   ]
  },
  {
   "cell_type": "markdown",
   "id": "920c2c39-2186-49dd-af64-f33a903466fa",
   "metadata": {},
   "source": [
    "## 4. heading-duplicate-h1-h2\n",
    "\n",
    "## Basic Tests 2 (Headings)"
   ]
  }
 ],
 "metadata": {
  "kernelspec": {
   "display_name": "Python 3 (ipykernel)",
   "language": "python",
   "name": "python3"
  },
  "language_info": {
   "codemirror_mode": {
    "name": "ipython",
    "version": 3
   },
   "file_extension": ".py",
   "mimetype": "text/x-python",
   "name": "python",
   "nbconvert_exporter": "python",
   "pygments_lexer": "ipython3",
   "version": "3.13.2"
  }
 },
 "nbformat": 4,
 "nbformat_minor": 5
}
