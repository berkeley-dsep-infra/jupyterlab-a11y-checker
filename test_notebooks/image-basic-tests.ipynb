{
 "cells": [
  {
   "cell_type": "markdown",
   "id": "bfd87226-5b64-47a6-848f-aa90ade08c92",
   "metadata": {},
   "source": [
    "# Basic Tests"
   ]
  },
  {
   "cell_type": "markdown",
   "id": "34e3361e-59c9-4f11-9ac8-74b997118f32",
   "metadata": {},
   "source": [
    "## 1. image-missing-alt\n",
    "\n",
    "### 1. Images from an external link\n",
    "![](https://upload.wikimedia.org/wikipedia/commons/thumb/b/bb/Wheeler_Hall--UC_Berkeley--Panoramic_%28cropped%29.jpg/500px-Wheeler_Hall--UC_Berkeley--Panoramic_%28cropped%29.jpg)\n",
    "\n",
    "<img src=\"https://upload.wikimedia.org/wikipedia/commons/thumb/b/bb/Wheeler_Hall--UC_Berkeley--Panoramic_%28cropped%29.jpg/500px-Wheeler_Hall--UC_Berkeley--Panoramic_%28cropped%29.jpg\" width=\"40\" />\n",
    "\n",
    "<img src=\"https://upload.wikimedia.org/wikipedia/commons/thumb/b/bb/Wheeler_Hall--UC_Berkeley--Panoramic_%28cropped%29.jpg/500px-Wheeler_Hall--UC_Berkeley--Panoramic_%28cropped%29.jpg\" width=\"40\"></img>\n",
    "\n",
    "### 2. Images from file path\n",
    "### 3. Embedded Images"
   ]
  },
  {
   "cell_type": "code",
   "execution_count": null,
   "id": "26f3c9c1-ab5f-44b3-a6b0-f1a207e5137e",
   "metadata": {},
   "outputs": [],
   "source": []
  }
 ],
 "metadata": {
  "kernelspec": {
   "display_name": "Python 3 (ipykernel)",
   "language": "python",
   "name": "python3"
  },
  "language_info": {
   "codemirror_mode": {
    "name": "ipython",
    "version": 3
   },
   "file_extension": ".py",
   "mimetype": "text/x-python",
   "name": "python",
   "nbconvert_exporter": "python",
   "pygments_lexer": "ipython3",
   "version": "3.13.2"
  }
 },
 "nbformat": 4,
 "nbformat_minor": 5
}
