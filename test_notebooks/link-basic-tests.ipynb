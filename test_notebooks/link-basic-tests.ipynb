{
 "cells": [
  {
   "cell_type": "markdown",
   "id": "b5f2a398-d054-4307-ad58-1bd31e011d8f",
   "metadata": {},
   "source": [
    "# Basic Tests (Links)"
   ]
  },
  {
   "cell_type": "markdown",
   "id": "9352c11b-feeb-4721-8cfc-85bcffda18f2",
   "metadata": {},
   "source": [
    "[Read more](https://example.com)"
   ]
  },
  {
   "cell_type": "markdown",
   "id": "1421d493-9c53-42d3-a563-97edc48d11cb",
   "metadata": {},
   "source": [
    "[Click here](https://example.com)"
   ]
  },
  {
   "cell_type": "markdown",
   "id": "09ef02f5-cdb8-4b31-98a4-91a72d3333af",
   "metadata": {},
   "source": [
    "[https://example.com](https://example.com)"
   ]
  },
  {
   "cell_type": "markdown",
   "id": "2f97b325-0ba2-43dc-b60c-2b199259c7bb",
   "metadata": {},
   "source": [
    "<a href=\"https://some_url\">\n",
    "    <img src=\"some_url\" alt=\"some_alt\">\n",
    "</a>"
   ]
  },
  {
   "cell_type": "markdown",
   "id": "d6ccef7e-80c6-4918-abce-ca8ccd979739",
   "metadata": {},
   "source": [
    "<a href=\"https://example.com\"></a>"
   ]
  },
  {
   "cell_type": "code",
   "execution_count": null,
   "id": "6f18030c-cab0-49b7-b688-6a1d048af48a",
   "metadata": {},
   "outputs": [],
   "source": []
  }
 ],
 "metadata": {
  "kernelspec": {
   "display_name": "Python 3 (ipykernel)",
   "language": "python",
   "name": "python3"
  },
  "language_info": {
   "codemirror_mode": {
    "name": "ipython",
    "version": 3
   },
   "file_extension": ".py",
   "mimetype": "text/x-python",
   "name": "python",
   "nbconvert_exporter": "python",
   "pygments_lexer": "ipython3",
   "version": "3.13.2"
  }
 },
 "nbformat": 4,
 "nbformat_minor": 5
}
