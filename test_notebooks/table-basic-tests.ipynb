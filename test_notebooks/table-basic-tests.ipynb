{
 "cells": [
  {
   "cell_type": "markdown",
   "id": "43d9eba3-d53e-4deb-8144-c3c4862cd590",
   "metadata": {},
   "source": [
    "# Basic Tests (Tables)"
   ]
  },
  {
   "cell_type": "markdown",
   "id": "150c832e-d68d-44b7-8ee9-ae6801008994",
   "metadata": {},
   "source": [
    "## 1. table-missing-header\n",
    "## 2. table-missing-caption\n",
    "## 3. table-missing-scope\n",
    "\n",
    "<table>\n",
    "  <tr>\n",
    "    <td>A</td>\n",
    "    <td>B</td>\n",
    "  </tr>\n",
    "  <tr>\n",
    "    <td>C</td>\n",
    "    <td>D</td>\n",
    "  </tr>\n",
    "</table>"
   ]
  }
 ],
 "metadata": {
  "kernelspec": {
   "display_name": "Python 3 (ipykernel)",
   "language": "python",
   "name": "python3"
  },
  "language_info": {
   "codemirror_mode": {
    "name": "ipython",
    "version": 3
   },
   "file_extension": ".py",
   "mimetype": "text/x-python",
   "name": "python",
   "nbconvert_exporter": "python",
   "pygments_lexer": "ipython3",
   "version": "3.13.2"
  }
 },
 "nbformat": 4,
 "nbformat_minor": 5
}
